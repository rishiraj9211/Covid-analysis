{
 "cells": [
  {
   "cell_type": "code",
   "execution_count": 1,
   "metadata": {},
   "outputs": [],
   "source": [
    "from matplotlib import pyplot as plt\n",
    "import pandas as pd"
   ]
  },
  {
   "cell_type": "code",
   "execution_count": 3,
   "metadata": {},
   "outputs": [],
   "source": [
    "covid_19=pd.read_csv(\"covid19_india.csv\")"
   ]
  },
  {
   "cell_type": "code",
   "execution_count": 8,
   "metadata": {},
   "outputs": [
    {
     "name": "stdout",
     "output_type": "stream",
     "text": [
      "   Sno      Date     Time State/UnionTerritory ConfirmedIndianNational  \\\n",
      "0    1  30/01/20  6:00 PM               Kerala                       1   \n",
      "1    2  31/01/20  6:00 PM               Kerala                       1   \n",
      "2    3  01/02/20  6:00 PM               Kerala                       2   \n",
      "3    4  02/02/20  6:00 PM               Kerala                       3   \n",
      "4    5  03/02/20  6:00 PM               Kerala                       3   \n",
      "\n",
      "  ConfirmedForeignNational  Cured  Deaths  Confirmed  \n",
      "0                        0      0       0          1  \n",
      "1                        0      0       0          1  \n",
      "2                        0      0       0          2  \n",
      "3                        0      0       0          3  \n",
      "4                        0      0       0          3  \n"
     ]
    }
   ],
   "source": [
    "print(covid_19.head())"
   ]
  },
  {
   "cell_type": "code",
   "execution_count": 15,
   "metadata": {},
   "outputs": [],
   "source": [
    "df=covid_19[covid_19[\"State/UnionTerritory\"]==\"Goa\"].iloc[0]"
   ]
  },
  {
   "cell_type": "code",
   "execution_count": 58,
   "metadata": {},
   "outputs": [
    {
     "name": "stdout",
     "output_type": "stream",
     "text": [
      "Sno                              372\n",
      "Date                        26/03/20\n",
      "Time                         6:00 PM\n",
      "State/UnionTerritory             Goa\n",
      "ConfirmedIndianNational            3\n",
      "ConfirmedForeignNational           0\n",
      "Cured                              0\n",
      "Deaths                             0\n",
      "Confirmed                          3\n",
      "Name: 371, dtype: object\n"
     ]
    }
   ],
   "source": [
    "print(df)"
   ]
  },
  {
   "cell_type": "code",
   "execution_count": 28,
   "metadata": {},
   "outputs": [],
   "source": [
    "x=df[\"Date\"].split()"
   ]
  },
  {
   "cell_type": "code",
   "execution_count": 29,
   "metadata": {},
   "outputs": [
    {
     "name": "stdout",
     "output_type": "stream",
     "text": [
      "26 03 20\n"
     ]
    }
   ],
   "source": [
    "\n",
    "day=x[0][0:2]\n",
    "month=x[0][3:5]\n",
    "year=x[0][6:]\n",
    "print(day,month,year)"
   ]
  },
  {
   "cell_type": "code",
   "execution_count": 65,
   "metadata": {},
   "outputs": [
    {
     "name": "stdout",
     "output_type": "stream",
     "text": [
      "   Sno      Date     Time State/UnionTerritory ConfirmedIndianNational  \\\n",
      "0    1  30/01/20  6:00 PM               Kerala                       1   \n",
      "1    2  31/01/20  6:00 PM               Kerala                       1   \n",
      "2    3  01/02/20  6:00 PM               Kerala                       2   \n",
      "3    4  02/02/20  6:00 PM               Kerala                       3   \n",
      "4    5  03/02/20  6:00 PM               Kerala                       3   \n",
      "\n",
      "  ConfirmedForeignNational  Cured  Deaths  Confirmed Day Month Year  acb  \n",
      "0                        0      0       0          1  30    01   20    0  \n",
      "1                        0      0       0          1  30    01   20    1  \n",
      "2                        0      0       0          2  30    01   20    1  \n",
      "3                        0      0       0          3  30    01   20    1  \n",
      "4                        0      0       0          3  30    01   20    2  \n"
     ]
    }
   ],
   "source": [
    "covid_19[\"Day\"]=covid_19[\"Date\"][0][:2]\n",
    "covid_19[\"Month\"]=covid_19[\"Date\"][0][3:5]\n",
    "covid_19[\"Year\"]=covid_19[\"Date\"][0][6:]\n",
    "covid_19[\"acb\"] =covid_19.Sno-covid_19.Confirmed\n",
    "print(covid_19.head())"
   ]
  },
  {
   "cell_type": "code",
   "execution_count": 42,
   "metadata": {},
   "outputs": [
    {
     "name": "stdout",
     "output_type": "stream",
     "text": [
      "Month\n",
      "01    6.631259\n",
      "Name: Deaths, dtype: float64\n"
     ]
    }
   ],
   "source": [
    "deaths=covid_19.groupby(\"Month\").Deaths.mean()\n",
    "print(deaths.head())"
   ]
  },
  {
   "cell_type": "code",
   "execution_count": 50,
   "metadata": {},
   "outputs": [],
   "source": [
    "print(covid_19[\"Date\"])"
   ]
  },
  {
   "cell_type": "code",
   "execution_count": 52,
   "metadata": {},
   "outputs": [],
   "source": [
    "date=covid_19[\"Date\"]"
   ]
  },
  {
   "cell_type": "code",
   "execution_count": 57,
   "metadata": {},
   "outputs": [
    {
     "name": "stdout",
     "output_type": "stream",
     "text": [
      "0    30/01/20\n",
      "1    31/01/20\n",
      "Name: Date, dtype: object\n"
     ]
    }
   ],
   "source": [
    "print(covid_19.Date[:2])"
   ]
  },
  {
   "cell_type": "code",
   "execution_count": 81,
   "metadata": {},
   "outputs": [
    {
     "name": "stdout",
     "output_type": "stream",
     "text": [
      "   Sno      Date     Time State/UnionTerritory ConfirmedIndianNational  \\\n",
      "0    1  30/01/20  6:00 PM               Kerala                       1   \n",
      "1    2  31/01/20  6:00 PM               Kerala                       1   \n",
      "2    3  01/02/20  6:00 PM               Kerala                       2   \n",
      "3    4  02/02/20  6:00 PM               Kerala                       3   \n",
      "4    5  03/02/20  6:00 PM               Kerala                       3   \n",
      "\n",
      "  ConfirmedForeignNational  Cured  Deaths  Confirmed Day Month Year  acb  \\\n",
      "0                        0      0       0          1  30    01   20    0   \n",
      "1                        0      0       0          1  30    01   20    1   \n",
      "2                        0      0       0          2  30    01   20    1   \n",
      "3                        0      0       0          3  30    01   20    1   \n",
      "4                        0      0       0          3  30    01   20    2   \n",
      "\n",
      "       Days  \n",
      "0  30/01/20  \n",
      "1  30/01/20  \n",
      "2  30/01/20  \n",
      "3  30/01/20  \n",
      "4  30/01/20  \n"
     ]
    }
   ],
   "source": [
    "covid_19[\"Days\"]=covid_19.Date[:][0]\n",
    "print(covid_19.head())"
   ]
  },
  {
   "cell_type": "code",
   "execution_count": 94,
   "metadata": {},
   "outputs": [
    {
     "name": "stderr",
     "output_type": "stream",
     "text": [
      "C:\\Users\\rishi\\miniconda3\\lib\\site-packages\\pandas\\core\\indexing.py:1637: SettingWithCopyWarning: \n",
      "A value is trying to be set on a copy of a slice from a DataFrame\n",
      "\n",
      "See the caveats in the documentation: https://pandas.pydata.org/pandas-docs/stable/user_guide/indexing.html#returning-a-view-versus-a-copy\n",
      "  self._setitem_single_block(indexer, value, name)\n"
     ]
    },
    {
     "name": "stdout",
     "output_type": "stream",
     "text": [
      "   Sno      Date     Time State/UnionTerritory ConfirmedIndianNational  \\\n",
      "0    1  30/01/20  6:00 PM               Kerala                       1   \n",
      "1    2  31/01/20  6:00 PM               Kerala                       1   \n",
      "2    3  01/02/20  6:00 PM               Kerala                       2   \n",
      "3    4  02/02/20  6:00 PM               Kerala                       3   \n",
      "4    5  03/02/20  6:00 PM               Kerala                       3   \n",
      "\n",
      "  ConfirmedForeignNational  Cured  Deaths  Confirmed Day Month Year  acb Days  \\\n",
      "0                        0      0       0          1  30    01   20    0   30   \n",
      "1                        0      0       0          1  30    01   20    1   31   \n",
      "2                        0      0       0          2  30    01   20    1   01   \n",
      "3                        0      0       0          3  30    01   20    1   02   \n",
      "4                        0      0       0          3  30    01   20    2   03   \n",
      "\n",
      "  Dayses  \n",
      "0     25  \n",
      "1     25  \n",
      "2     25  \n",
      "3     25  \n",
      "4     25  \n"
     ]
    }
   ],
   "source": [
    "for i in range(len(covid_19)) :\n",
    "    row=covid_19.iloc[i]\n",
    "    s=row[\"Date\"].split()\n",
    "    covid_19[\"Days\"].iloc[i]=s[0][:2]\n",
    "print(covid_19.head())"
   ]
  },
  {
   "cell_type": "code",
   "execution_count": null,
   "metadata": {},
   "outputs": [],
   "source": []
  }
 ],
 "metadata": {
  "kernelspec": {
   "display_name": "Python 3",
   "language": "python",
   "name": "python3"
  },
  "language_info": {
   "codemirror_mode": {
    "name": "ipython",
    "version": 3
   },
   "file_extension": ".py",
   "mimetype": "text/x-python",
   "name": "python",
   "nbconvert_exporter": "python",
   "pygments_lexer": "ipython3",
   "version": "3.7.6"
  }
 },
 "nbformat": 4,
 "nbformat_minor": 4
}
